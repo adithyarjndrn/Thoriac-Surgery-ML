{
 "cells": [
  {
   "cell_type": "markdown",
   "id": "12e6c9bb",
   "metadata": {
    "_cell_guid": "b1076dfc-b9ad-4769-8c92-a6c4dae69d19",
    "_uuid": "8f2839f25d086af736a60e9eeb907d3b93b6e0e5",
    "papermill": {
     "duration": 0.009373,
     "end_time": "2023-09-02T17:42:14.136595",
     "exception": false,
     "start_time": "2023-09-02T17:42:14.127222",
     "status": "completed"
    },
    "tags": []
   },
   "source": [
    "# Predict post-operative life expectancy in the lung cancer patients using Machine Learning"
   ]
  },
  {
   "cell_type": "markdown",
   "id": "fccd9655",
   "metadata": {
    "execution": {
     "iopub.execute_input": "2023-09-02T14:47:31.443045Z",
     "iopub.status.busy": "2023-09-02T14:47:31.442639Z",
     "iopub.status.idle": "2023-09-02T14:47:31.479472Z",
     "shell.execute_reply": "2023-09-02T14:47:31.477690Z",
     "shell.execute_reply.started": "2023-09-02T14:47:31.443016Z"
    },
    "papermill": {
     "duration": 0.008239,
     "end_time": "2023-09-02T17:42:14.153709",
     "exception": false,
     "start_time": "2023-09-02T17:42:14.145470",
     "status": "completed"
    },
    "tags": []
   },
   "source": [
    "## Problem Definition\n",
    "Create a Classification model to predict post-operative life expectancy in lung cancer patients using Machine Learning"
   ]
  },
  {
   "cell_type": "markdown",
   "id": "f04a4fbd",
   "metadata": {
    "papermill": {
     "duration": 0.008262,
     "end_time": "2023-09-02T17:42:14.170655",
     "exception": false,
     "start_time": "2023-09-02T17:42:14.162393",
     "status": "completed"
    },
    "tags": []
   },
   "source": [
    "## Data\n",
    "We have 18 attributes and 470 columns to predict our target variable.The data is dedicated to classification problem related to the post-operative life expectancy in the lung cancer patients after thoracic surgery in which there are two classes \n",
    "* class 1 - the death of patients within one year after surgery \n",
    "* class 2 – the patients who survive.\n",
    "We have 18 attributes to predict our target variable"
   ]
  },
  {
   "cell_type": "markdown",
   "id": "4cf2850a",
   "metadata": {
    "papermill": {
     "duration": 0.008387,
     "end_time": "2023-09-02T17:42:14.187818",
     "exception": false,
     "start_time": "2023-09-02T17:42:14.179431",
     "status": "completed"
    },
    "tags": []
   },
   "source": [
    "# Evaluation\n",
    "If we can reach atleast 85% accuracy at predicting we'll pursure this project."
   ]
  },
  {
   "cell_type": "markdown",
   "id": "2227f06f",
   "metadata": {
    "execution": {
     "iopub.execute_input": "2023-09-02T14:57:02.882479Z",
     "iopub.status.busy": "2023-09-02T14:57:02.881772Z",
     "iopub.status.idle": "2023-09-02T14:57:02.888589Z",
     "shell.execute_reply": "2023-09-02T14:57:02.887341Z",
     "shell.execute_reply.started": "2023-09-02T14:57:02.882439Z"
    },
    "papermill": {
     "duration": 0.00826,
     "end_time": "2023-09-02T17:42:14.204904",
     "exception": false,
     "start_time": "2023-09-02T17:42:14.196644",
     "status": "completed"
    },
    "tags": []
   },
   "source": [
    "# Exploratory Data Analysis (EDA)\n",
    "* Step 1: Importing the requred libraries\n",
    "* Step 2: Loading the data & understanding of data columns\n",
    "* Step 3: Basic understanding of the data\n",
    "* Step 4: Preprocessing\n",
    "    - checking & handling null values \n",
    "    - checking & handling duplicant in the data\n",
    "    - checking & handling inconsistency or anomalies\n"
   ]
  },
  {
   "cell_type": "code",
   "execution_count": 1,
   "id": "4761e250",
   "metadata": {
    "execution": {
     "iopub.execute_input": "2023-09-02T17:42:14.224352Z",
     "iopub.status.busy": "2023-09-02T17:42:14.223977Z",
     "iopub.status.idle": "2023-09-02T17:42:15.859750Z",
     "shell.execute_reply": "2023-09-02T17:42:15.858522Z"
    },
    "papermill": {
     "duration": 1.648773,
     "end_time": "2023-09-02T17:42:15.862508",
     "exception": false,
     "start_time": "2023-09-02T17:42:14.213735",
     "status": "completed"
    },
    "tags": []
   },
   "outputs": [],
   "source": [
    "#imorting libraries\n",
    "import pandas as pd\n",
    "import numpy as np\n",
    "import matplotlib.pyplot as plt\n",
    "import seaborn as sns\n"
   ]
  },
  {
   "cell_type": "code",
   "execution_count": 2,
   "id": "f41805c8",
   "metadata": {
    "execution": {
     "iopub.execute_input": "2023-09-02T17:42:15.881492Z",
     "iopub.status.busy": "2023-09-02T17:42:15.881047Z",
     "iopub.status.idle": "2023-09-02T17:42:16.488031Z",
     "shell.execute_reply": "2023-09-02T17:42:16.486869Z"
    },
    "papermill": {
     "duration": 0.619428,
     "end_time": "2023-09-02T17:42:16.490680",
     "exception": false,
     "start_time": "2023-09-02T17:42:15.871252",
     "status": "completed"
    },
    "tags": []
   },
   "outputs": [],
   "source": [
    "from sklearn.preprocessing import StandardScaler\n",
    "from sklearn import preprocessing\n",
    "from sklearn.model_selection import train_test_split\n",
    "from sklearn.ensemble import RandomForestClassifier\n",
    "from sklearn.linear_model import LogisticRegression\n",
    "from sklearn import svm\n",
    "from sklearn.model_selection import GridSearchCV\n",
    "from sklearn.model_selection import cross_val_score\n",
    "from sklearn.metrics import precision_score, recall_score, f1_score, accuracy_score\n"
   ]
  },
  {
   "cell_type": "code",
   "execution_count": 3,
   "id": "ad5f7178",
   "metadata": {
    "execution": {
     "iopub.execute_input": "2023-09-02T17:42:16.508498Z",
     "iopub.status.busy": "2023-09-02T17:42:16.508151Z",
     "iopub.status.idle": "2023-09-02T17:42:16.559963Z",
     "shell.execute_reply": "2023-09-02T17:42:16.558945Z"
    },
    "papermill": {
     "duration": 0.063504,
     "end_time": "2023-09-02T17:42:16.562831",
     "exception": false,
     "start_time": "2023-09-02T17:42:16.499327",
     "status": "completed"
    },
    "tags": []
   },
   "outputs": [
    {
     "data": {
      "text/html": [
       "<div>\n",
       "<style scoped>\n",
       "    .dataframe tbody tr th:only-of-type {\n",
       "        vertical-align: middle;\n",
       "    }\n",
       "\n",
       "    .dataframe tbody tr th {\n",
       "        vertical-align: top;\n",
       "    }\n",
       "\n",
       "    .dataframe thead th {\n",
       "        text-align: right;\n",
       "    }\n",
       "</style>\n",
       "<table border=\"1\" class=\"dataframe\">\n",
       "  <thead>\n",
       "    <tr style=\"text-align: right;\">\n",
       "      <th></th>\n",
       "      <th>id</th>\n",
       "      <th>DGN</th>\n",
       "      <th>PRE4</th>\n",
       "      <th>PRE5</th>\n",
       "      <th>PRE6</th>\n",
       "      <th>PRE7</th>\n",
       "      <th>PRE8</th>\n",
       "      <th>PRE9</th>\n",
       "      <th>PRE10</th>\n",
       "      <th>PRE11</th>\n",
       "      <th>PRE14</th>\n",
       "      <th>PRE17</th>\n",
       "      <th>PRE19</th>\n",
       "      <th>PRE25</th>\n",
       "      <th>PRE30</th>\n",
       "      <th>PRE32</th>\n",
       "      <th>AGE</th>\n",
       "      <th>Risk1Yr</th>\n",
       "    </tr>\n",
       "  </thead>\n",
       "  <tbody>\n",
       "    <tr>\n",
       "      <th>0</th>\n",
       "      <td>1</td>\n",
       "      <td>DGN2</td>\n",
       "      <td>2.88</td>\n",
       "      <td>2.16</td>\n",
       "      <td>PRZ1</td>\n",
       "      <td>F</td>\n",
       "      <td>F</td>\n",
       "      <td>F</td>\n",
       "      <td>T</td>\n",
       "      <td>T</td>\n",
       "      <td>OC14</td>\n",
       "      <td>F</td>\n",
       "      <td>F</td>\n",
       "      <td>F</td>\n",
       "      <td>T</td>\n",
       "      <td>F</td>\n",
       "      <td>60</td>\n",
       "      <td>F</td>\n",
       "    </tr>\n",
       "    <tr>\n",
       "      <th>1</th>\n",
       "      <td>2</td>\n",
       "      <td>DGN3</td>\n",
       "      <td>3.40</td>\n",
       "      <td>1.88</td>\n",
       "      <td>PRZ0</td>\n",
       "      <td>F</td>\n",
       "      <td>F</td>\n",
       "      <td>F</td>\n",
       "      <td>F</td>\n",
       "      <td>F</td>\n",
       "      <td>OC12</td>\n",
       "      <td>F</td>\n",
       "      <td>F</td>\n",
       "      <td>F</td>\n",
       "      <td>T</td>\n",
       "      <td>F</td>\n",
       "      <td>51</td>\n",
       "      <td>F</td>\n",
       "    </tr>\n",
       "    <tr>\n",
       "      <th>2</th>\n",
       "      <td>3</td>\n",
       "      <td>DGN3</td>\n",
       "      <td>2.76</td>\n",
       "      <td>2.08</td>\n",
       "      <td>PRZ1</td>\n",
       "      <td>F</td>\n",
       "      <td>F</td>\n",
       "      <td>F</td>\n",
       "      <td>T</td>\n",
       "      <td>F</td>\n",
       "      <td>OC11</td>\n",
       "      <td>F</td>\n",
       "      <td>F</td>\n",
       "      <td>F</td>\n",
       "      <td>T</td>\n",
       "      <td>F</td>\n",
       "      <td>59</td>\n",
       "      <td>F</td>\n",
       "    </tr>\n",
       "    <tr>\n",
       "      <th>3</th>\n",
       "      <td>4</td>\n",
       "      <td>DGN3</td>\n",
       "      <td>3.68</td>\n",
       "      <td>3.04</td>\n",
       "      <td>PRZ0</td>\n",
       "      <td>F</td>\n",
       "      <td>F</td>\n",
       "      <td>F</td>\n",
       "      <td>F</td>\n",
       "      <td>F</td>\n",
       "      <td>OC11</td>\n",
       "      <td>F</td>\n",
       "      <td>F</td>\n",
       "      <td>F</td>\n",
       "      <td>F</td>\n",
       "      <td>F</td>\n",
       "      <td>54</td>\n",
       "      <td>F</td>\n",
       "    </tr>\n",
       "    <tr>\n",
       "      <th>4</th>\n",
       "      <td>5</td>\n",
       "      <td>DGN3</td>\n",
       "      <td>2.44</td>\n",
       "      <td>0.96</td>\n",
       "      <td>PRZ2</td>\n",
       "      <td>F</td>\n",
       "      <td>T</td>\n",
       "      <td>F</td>\n",
       "      <td>T</td>\n",
       "      <td>T</td>\n",
       "      <td>OC11</td>\n",
       "      <td>F</td>\n",
       "      <td>F</td>\n",
       "      <td>F</td>\n",
       "      <td>T</td>\n",
       "      <td>F</td>\n",
       "      <td>73</td>\n",
       "      <td>T</td>\n",
       "    </tr>\n",
       "  </tbody>\n",
       "</table>\n",
       "</div>"
      ],
      "text/plain": [
       "   id   DGN  PRE4  PRE5  PRE6 PRE7 PRE8 PRE9 PRE10 PRE11 PRE14 PRE17 PRE19  \\\n",
       "0   1  DGN2  2.88  2.16  PRZ1    F    F    F     T     T  OC14     F     F   \n",
       "1   2  DGN3  3.40  1.88  PRZ0    F    F    F     F     F  OC12     F     F   \n",
       "2   3  DGN3  2.76  2.08  PRZ1    F    F    F     T     F  OC11     F     F   \n",
       "3   4  DGN3  3.68  3.04  PRZ0    F    F    F     F     F  OC11     F     F   \n",
       "4   5  DGN3  2.44  0.96  PRZ2    F    T    F     T     T  OC11     F     F   \n",
       "\n",
       "  PRE25 PRE30 PRE32  AGE Risk1Yr  \n",
       "0     F     T     F   60       F  \n",
       "1     F     T     F   51       F  \n",
       "2     F     T     F   59       F  \n",
       "3     F     F     F   54       F  \n",
       "4     F     T     F   73       T  "
      ]
     },
     "execution_count": 3,
     "metadata": {},
     "output_type": "execute_result"
    }
   ],
   "source": [
    "# Loading data as csv\n",
    "data=pd.read_csv(\"/kaggle/input/thoraric-surgery/ThoraricSurgery.csv\")\n",
    "data.head()"
   ]
  },
  {
   "cell_type": "code",
   "execution_count": 4,
   "id": "65b56f7d",
   "metadata": {
    "execution": {
     "iopub.execute_input": "2023-09-02T17:42:16.582548Z",
     "iopub.status.busy": "2023-09-02T17:42:16.581895Z",
     "iopub.status.idle": "2023-09-02T17:42:16.609654Z",
     "shell.execute_reply": "2023-09-02T17:42:16.608479Z"
    },
    "papermill": {
     "duration": 0.039923,
     "end_time": "2023-09-02T17:42:16.611787",
     "exception": false,
     "start_time": "2023-09-02T17:42:16.571864",
     "status": "completed"
    },
    "tags": []
   },
   "outputs": [
    {
     "name": "stdout",
     "output_type": "stream",
     "text": [
      "<class 'pandas.core.frame.DataFrame'>\n",
      "RangeIndex: 470 entries, 0 to 469\n",
      "Data columns (total 18 columns):\n",
      " #   Column   Non-Null Count  Dtype  \n",
      "---  ------   --------------  -----  \n",
      " 0   id       470 non-null    int64  \n",
      " 1   DGN      470 non-null    object \n",
      " 2   PRE4     470 non-null    float64\n",
      " 3   PRE5     470 non-null    float64\n",
      " 4   PRE6     470 non-null    object \n",
      " 5   PRE7     470 non-null    object \n",
      " 6   PRE8     470 non-null    object \n",
      " 7   PRE9     470 non-null    object \n",
      " 8   PRE10    470 non-null    object \n",
      " 9   PRE11    470 non-null    object \n",
      " 10  PRE14    470 non-null    object \n",
      " 11  PRE17    470 non-null    object \n",
      " 12  PRE19    470 non-null    object \n",
      " 13  PRE25    470 non-null    object \n",
      " 14  PRE30    470 non-null    object \n",
      " 15  PRE32    470 non-null    object \n",
      " 16  AGE      470 non-null    int64  \n",
      " 17  Risk1Yr  470 non-null    object \n",
      "dtypes: float64(2), int64(2), object(14)\n",
      "memory usage: 66.2+ KB\n"
     ]
    }
   ],
   "source": [
    "data.info()"
   ]
  },
  {
   "cell_type": "code",
   "execution_count": 5,
   "id": "45d499b6",
   "metadata": {
    "execution": {
     "iopub.execute_input": "2023-09-02T17:42:16.629754Z",
     "iopub.status.busy": "2023-09-02T17:42:16.629439Z",
     "iopub.status.idle": "2023-09-02T17:42:16.638747Z",
     "shell.execute_reply": "2023-09-02T17:42:16.637523Z"
    },
    "papermill": {
     "duration": 0.02123,
     "end_time": "2023-09-02T17:42:16.641256",
     "exception": false,
     "start_time": "2023-09-02T17:42:16.620026",
     "status": "completed"
    },
    "tags": []
   },
   "outputs": [
    {
     "data": {
      "text/plain": [
       "id         0\n",
       "DGN        0\n",
       "PRE4       0\n",
       "PRE5       0\n",
       "PRE6       0\n",
       "PRE7       0\n",
       "PRE8       0\n",
       "PRE9       0\n",
       "PRE10      0\n",
       "PRE11      0\n",
       "PRE14      0\n",
       "PRE17      0\n",
       "PRE19      0\n",
       "PRE25      0\n",
       "PRE30      0\n",
       "PRE32      0\n",
       "AGE        0\n",
       "Risk1Yr    0\n",
       "dtype: int64"
      ]
     },
     "execution_count": 5,
     "metadata": {},
     "output_type": "execute_result"
    }
   ],
   "source": [
    "data.isnull().sum()"
   ]
  },
  {
   "cell_type": "markdown",
   "id": "acbb19b7",
   "metadata": {
    "execution": {
     "iopub.execute_input": "2023-09-02T15:15:49.609900Z",
     "iopub.status.busy": "2023-09-02T15:15:49.609426Z",
     "iopub.status.idle": "2023-09-02T15:15:49.615764Z",
     "shell.execute_reply": "2023-09-02T15:15:49.614355Z",
     "shell.execute_reply.started": "2023-09-02T15:15:49.609865Z"
    },
    "papermill": {
     "duration": 0.008753,
     "end_time": "2023-09-02T17:42:16.658810",
     "exception": false,
     "start_time": "2023-09-02T17:42:16.650057",
     "status": "completed"
    },
    "tags": []
   },
   "source": [
    "### As there are object dtypes attributes we should convert them to Numerical terms"
   ]
  },
  {
   "cell_type": "code",
   "execution_count": 6,
   "id": "5e9737cc",
   "metadata": {
    "execution": {
     "iopub.execute_input": "2023-09-02T17:42:16.677910Z",
     "iopub.status.busy": "2023-09-02T17:42:16.677504Z",
     "iopub.status.idle": "2023-09-02T17:42:16.682538Z",
     "shell.execute_reply": "2023-09-02T17:42:16.681932Z"
    },
    "papermill": {
     "duration": 0.016914,
     "end_time": "2023-09-02T17:42:16.684363",
     "exception": false,
     "start_time": "2023-09-02T17:42:16.667449",
     "status": "completed"
    },
    "tags": []
   },
   "outputs": [
    {
     "name": "stdout",
     "output_type": "stream",
     "text": [
      "DGN\n",
      "PRE6\n",
      "PRE7\n",
      "PRE8\n",
      "PRE9\n",
      "PRE10\n",
      "PRE11\n",
      "PRE14\n",
      "PRE17\n",
      "PRE19\n",
      "PRE25\n",
      "PRE30\n",
      "PRE32\n",
      "Risk1Yr\n"
     ]
    }
   ],
   "source": [
    "for label,content in data.items():\n",
    "    if not pd.api.types.is_numeric_dtype(content):\n",
    "        print(label)"
   ]
  },
  {
   "cell_type": "code",
   "execution_count": 7,
   "id": "bcde4a5f",
   "metadata": {
    "execution": {
     "iopub.execute_input": "2023-09-02T17:42:16.704018Z",
     "iopub.status.busy": "2023-09-02T17:42:16.703584Z",
     "iopub.status.idle": "2023-09-02T17:42:16.715335Z",
     "shell.execute_reply": "2023-09-02T17:42:16.714655Z"
    },
    "papermill": {
     "duration": 0.023843,
     "end_time": "2023-09-02T17:42:16.717251",
     "exception": false,
     "start_time": "2023-09-02T17:42:16.693408",
     "status": "completed"
    },
    "tags": []
   },
   "outputs": [],
   "source": [
    "for label,content in data.items():\n",
    "    if not pd.api.types.is_numeric_dtype(content):\n",
    "        data[label]=pd.Categorical(content).codes + 1\n",
    "    "
   ]
  },
  {
   "cell_type": "code",
   "execution_count": 8,
   "id": "ad89baf6",
   "metadata": {
    "execution": {
     "iopub.execute_input": "2023-09-02T17:42:16.736259Z",
     "iopub.status.busy": "2023-09-02T17:42:16.735755Z",
     "iopub.status.idle": "2023-09-02T17:42:16.742778Z",
     "shell.execute_reply": "2023-09-02T17:42:16.741877Z"
    },
    "papermill": {
     "duration": 0.018906,
     "end_time": "2023-09-02T17:42:16.744855",
     "exception": false,
     "start_time": "2023-09-02T17:42:16.725949",
     "status": "completed"
    },
    "tags": []
   },
   "outputs": [
    {
     "data": {
      "text/plain": [
       "id           int64\n",
       "DGN           int8\n",
       "PRE4       float64\n",
       "PRE5       float64\n",
       "PRE6          int8\n",
       "PRE7          int8\n",
       "PRE8          int8\n",
       "PRE9          int8\n",
       "PRE10         int8\n",
       "PRE11         int8\n",
       "PRE14         int8\n",
       "PRE17         int8\n",
       "PRE19         int8\n",
       "PRE25         int8\n",
       "PRE30         int8\n",
       "PRE32         int8\n",
       "AGE          int64\n",
       "Risk1Yr       int8\n",
       "dtype: object"
      ]
     },
     "execution_count": 8,
     "metadata": {},
     "output_type": "execute_result"
    }
   ],
   "source": [
    "data.dtypes"
   ]
  },
  {
   "cell_type": "code",
   "execution_count": 9,
   "id": "a8a2bf40",
   "metadata": {
    "execution": {
     "iopub.execute_input": "2023-09-02T17:42:16.763655Z",
     "iopub.status.busy": "2023-09-02T17:42:16.763353Z",
     "iopub.status.idle": "2023-09-02T17:42:16.771640Z",
     "shell.execute_reply": "2023-09-02T17:42:16.770377Z"
    },
    "papermill": {
     "duration": 0.01955,
     "end_time": "2023-09-02T17:42:16.773312",
     "exception": false,
     "start_time": "2023-09-02T17:42:16.753762",
     "status": "completed"
    },
    "tags": []
   },
   "outputs": [
    {
     "data": {
      "text/plain": [
       "Risk1Yr\n",
       "1    400\n",
       "2     70\n",
       "Name: count, dtype: int64"
      ]
     },
     "execution_count": 9,
     "metadata": {},
     "output_type": "execute_result"
    }
   ],
   "source": [
    "data[\"Risk1Yr\"].value_counts()"
   ]
  },
  {
   "cell_type": "code",
   "execution_count": 10,
   "id": "82a35cfa",
   "metadata": {
    "execution": {
     "iopub.execute_input": "2023-09-02T17:42:16.792039Z",
     "iopub.status.busy": "2023-09-02T17:42:16.791740Z",
     "iopub.status.idle": "2023-09-02T17:42:16.805442Z",
     "shell.execute_reply": "2023-09-02T17:42:16.804576Z"
    },
    "papermill": {
     "duration": 0.02523,
     "end_time": "2023-09-02T17:42:16.807246",
     "exception": false,
     "start_time": "2023-09-02T17:42:16.782016",
     "status": "completed"
    },
    "tags": []
   },
   "outputs": [
    {
     "data": {
      "text/html": [
       "<div>\n",
       "<style scoped>\n",
       "    .dataframe tbody tr th:only-of-type {\n",
       "        vertical-align: middle;\n",
       "    }\n",
       "\n",
       "    .dataframe tbody tr th {\n",
       "        vertical-align: top;\n",
       "    }\n",
       "\n",
       "    .dataframe thead th {\n",
       "        text-align: right;\n",
       "    }\n",
       "</style>\n",
       "<table border=\"1\" class=\"dataframe\">\n",
       "  <thead>\n",
       "    <tr style=\"text-align: right;\">\n",
       "      <th></th>\n",
       "      <th>id</th>\n",
       "      <th>DGN</th>\n",
       "      <th>PRE4</th>\n",
       "      <th>PRE5</th>\n",
       "      <th>PRE6</th>\n",
       "      <th>PRE7</th>\n",
       "      <th>PRE8</th>\n",
       "      <th>PRE9</th>\n",
       "      <th>PRE10</th>\n",
       "      <th>PRE11</th>\n",
       "      <th>PRE14</th>\n",
       "      <th>PRE17</th>\n",
       "      <th>PRE19</th>\n",
       "      <th>PRE25</th>\n",
       "      <th>PRE30</th>\n",
       "      <th>PRE32</th>\n",
       "      <th>AGE</th>\n",
       "      <th>Risk1Yr</th>\n",
       "    </tr>\n",
       "  </thead>\n",
       "  <tbody>\n",
       "    <tr>\n",
       "      <th>0</th>\n",
       "      <td>1</td>\n",
       "      <td>2</td>\n",
       "      <td>2.88</td>\n",
       "      <td>2.16</td>\n",
       "      <td>2</td>\n",
       "      <td>1</td>\n",
       "      <td>1</td>\n",
       "      <td>1</td>\n",
       "      <td>2</td>\n",
       "      <td>2</td>\n",
       "      <td>4</td>\n",
       "      <td>1</td>\n",
       "      <td>1</td>\n",
       "      <td>1</td>\n",
       "      <td>2</td>\n",
       "      <td>1</td>\n",
       "      <td>60</td>\n",
       "      <td>1</td>\n",
       "    </tr>\n",
       "    <tr>\n",
       "      <th>1</th>\n",
       "      <td>2</td>\n",
       "      <td>3</td>\n",
       "      <td>3.40</td>\n",
       "      <td>1.88</td>\n",
       "      <td>1</td>\n",
       "      <td>1</td>\n",
       "      <td>1</td>\n",
       "      <td>1</td>\n",
       "      <td>1</td>\n",
       "      <td>1</td>\n",
       "      <td>2</td>\n",
       "      <td>1</td>\n",
       "      <td>1</td>\n",
       "      <td>1</td>\n",
       "      <td>2</td>\n",
       "      <td>1</td>\n",
       "      <td>51</td>\n",
       "      <td>1</td>\n",
       "    </tr>\n",
       "    <tr>\n",
       "      <th>2</th>\n",
       "      <td>3</td>\n",
       "      <td>3</td>\n",
       "      <td>2.76</td>\n",
       "      <td>2.08</td>\n",
       "      <td>2</td>\n",
       "      <td>1</td>\n",
       "      <td>1</td>\n",
       "      <td>1</td>\n",
       "      <td>2</td>\n",
       "      <td>1</td>\n",
       "      <td>1</td>\n",
       "      <td>1</td>\n",
       "      <td>1</td>\n",
       "      <td>1</td>\n",
       "      <td>2</td>\n",
       "      <td>1</td>\n",
       "      <td>59</td>\n",
       "      <td>1</td>\n",
       "    </tr>\n",
       "    <tr>\n",
       "      <th>3</th>\n",
       "      <td>4</td>\n",
       "      <td>3</td>\n",
       "      <td>3.68</td>\n",
       "      <td>3.04</td>\n",
       "      <td>1</td>\n",
       "      <td>1</td>\n",
       "      <td>1</td>\n",
       "      <td>1</td>\n",
       "      <td>1</td>\n",
       "      <td>1</td>\n",
       "      <td>1</td>\n",
       "      <td>1</td>\n",
       "      <td>1</td>\n",
       "      <td>1</td>\n",
       "      <td>1</td>\n",
       "      <td>1</td>\n",
       "      <td>54</td>\n",
       "      <td>1</td>\n",
       "    </tr>\n",
       "    <tr>\n",
       "      <th>4</th>\n",
       "      <td>5</td>\n",
       "      <td>3</td>\n",
       "      <td>2.44</td>\n",
       "      <td>0.96</td>\n",
       "      <td>3</td>\n",
       "      <td>1</td>\n",
       "      <td>2</td>\n",
       "      <td>1</td>\n",
       "      <td>2</td>\n",
       "      <td>2</td>\n",
       "      <td>1</td>\n",
       "      <td>1</td>\n",
       "      <td>1</td>\n",
       "      <td>1</td>\n",
       "      <td>2</td>\n",
       "      <td>1</td>\n",
       "      <td>73</td>\n",
       "      <td>2</td>\n",
       "    </tr>\n",
       "  </tbody>\n",
       "</table>\n",
       "</div>"
      ],
      "text/plain": [
       "   id  DGN  PRE4  PRE5  PRE6  PRE7  PRE8  PRE9  PRE10  PRE11  PRE14  PRE17  \\\n",
       "0   1    2  2.88  2.16     2     1     1     1      2      2      4      1   \n",
       "1   2    3  3.40  1.88     1     1     1     1      1      1      2      1   \n",
       "2   3    3  2.76  2.08     2     1     1     1      2      1      1      1   \n",
       "3   4    3  3.68  3.04     1     1     1     1      1      1      1      1   \n",
       "4   5    3  2.44  0.96     3     1     2     1      2      2      1      1   \n",
       "\n",
       "   PRE19  PRE25  PRE30  PRE32  AGE  Risk1Yr  \n",
       "0      1      1      2      1   60        1  \n",
       "1      1      1      2      1   51        1  \n",
       "2      1      1      2      1   59        1  \n",
       "3      1      1      1      1   54        1  \n",
       "4      1      1      2      1   73        2  "
      ]
     },
     "execution_count": 10,
     "metadata": {},
     "output_type": "execute_result"
    }
   ],
   "source": [
    "data.head()"
   ]
  },
  {
   "cell_type": "markdown",
   "id": "d839bc89",
   "metadata": {
    "execution": {
     "iopub.execute_input": "2023-09-02T15:38:17.787628Z",
     "iopub.status.busy": "2023-09-02T15:38:17.787159Z",
     "iopub.status.idle": "2023-09-02T15:38:17.792201Z",
     "shell.execute_reply": "2023-09-02T15:38:17.791340Z",
     "shell.execute_reply.started": "2023-09-02T15:38:17.787594Z"
    },
    "papermill": {
     "duration": 0.008869,
     "end_time": "2023-09-02T17:42:16.826446",
     "exception": false,
     "start_time": "2023-09-02T17:42:16.817577",
     "status": "completed"
    },
    "tags": []
   },
   "source": [
    "### Now we can make a Visualization of AGE vs Risk1yr"
   ]
  },
  {
   "cell_type": "code",
   "execution_count": 11,
   "id": "92d49cc7",
   "metadata": {
    "execution": {
     "iopub.execute_input": "2023-09-02T17:42:16.845616Z",
     "iopub.status.busy": "2023-09-02T17:42:16.845241Z",
     "iopub.status.idle": "2023-09-02T17:42:16.870754Z",
     "shell.execute_reply": "2023-09-02T17:42:16.869550Z"
    },
    "papermill": {
     "duration": 0.037765,
     "end_time": "2023-09-02T17:42:16.872973",
     "exception": false,
     "start_time": "2023-09-02T17:42:16.835208",
     "status": "completed"
    },
    "tags": []
   },
   "outputs": [],
   "source": [
    "df=pd.crosstab(data['AGE'],data['Risk1Yr'])"
   ]
  },
  {
   "cell_type": "code",
   "execution_count": 12,
   "id": "77a493ea",
   "metadata": {
    "execution": {
     "iopub.execute_input": "2023-09-02T17:42:16.892164Z",
     "iopub.status.busy": "2023-09-02T17:42:16.891836Z",
     "iopub.status.idle": "2023-09-02T17:42:17.190936Z",
     "shell.execute_reply": "2023-09-02T17:42:17.190102Z"
    },
    "papermill": {
     "duration": 0.310932,
     "end_time": "2023-09-02T17:42:17.192814",
     "exception": false,
     "start_time": "2023-09-02T17:42:16.881882",
     "status": "completed"
    },
    "tags": []
   },
   "outputs": [
    {
     "data": {
      "image/png": "[encoded data removed]",
      "text/plain": [
       "<Figure size 1000x600 with 1 Axes>"
      ]
     },
     "metadata": {},
     "output_type": "display_data"
    }
   ],
   "source": [
    "# Filter data based on DRK_YN values\n",
    "R_1 = data[data['Risk1Yr'] == 1]\n",
    "R_2 = data[data['Risk1Yr'] == 2]\n",
    "\n",
    "\n",
    "# Plotting\n",
    "plt.figure(figsize=(10, 6))\n",
    "plt.hist(R_1['AGE'], bins=20, alpha=0.5, label='Died within 1 yr')\n",
    "plt.hist(R_2['AGE'], bins=20, alpha=0.5, label=\"Survived\")\n",
    "\n",
    "plt.xlabel('Age')\n",
    "plt.ylabel('Frequency')\n",
    "\n",
    "plt.legend()\n",
    "plt.show()"
   ]
  },
  {
   "cell_type": "code",
   "execution_count": 13,
   "id": "bb64c0e2",
   "metadata": {
    "execution": {
     "iopub.execute_input": "2023-09-02T17:42:17.213450Z",
     "iopub.status.busy": "2023-09-02T17:42:17.213113Z",
     "iopub.status.idle": "2023-09-02T17:42:17.230233Z",
     "shell.execute_reply": "2023-09-02T17:42:17.229071Z"
    },
    "papermill": {
     "duration": 0.029755,
     "end_time": "2023-09-02T17:42:17.232138",
     "exception": false,
     "start_time": "2023-09-02T17:42:17.202383",
     "status": "completed"
    },
    "tags": []
   },
   "outputs": [
    {
     "data": {
      "text/html": [
       "<div>\n",
       "<style scoped>\n",
       "    .dataframe tbody tr th:only-of-type {\n",
       "        vertical-align: middle;\n",
       "    }\n",
       "\n",
       "    .dataframe tbody tr th {\n",
       "        vertical-align: top;\n",
       "    }\n",
       "\n",
       "    .dataframe thead th {\n",
       "        text-align: right;\n",
       "    }\n",
       "</style>\n",
       "<table border=\"1\" class=\"dataframe\">\n",
       "  <thead>\n",
       "    <tr style=\"text-align: right;\">\n",
       "      <th></th>\n",
       "      <th>id</th>\n",
       "      <th>DGN</th>\n",
       "      <th>PRE4</th>\n",
       "      <th>PRE5</th>\n",
       "      <th>PRE6</th>\n",
       "      <th>PRE7</th>\n",
       "      <th>PRE8</th>\n",
       "      <th>PRE9</th>\n",
       "      <th>PRE10</th>\n",
       "      <th>PRE11</th>\n",
       "      <th>PRE14</th>\n",
       "      <th>PRE17</th>\n",
       "      <th>PRE19</th>\n",
       "      <th>PRE25</th>\n",
       "      <th>PRE30</th>\n",
       "      <th>PRE32</th>\n",
       "      <th>AGE</th>\n",
       "      <th>Risk1Yr</th>\n",
       "    </tr>\n",
       "  </thead>\n",
       "  <tbody>\n",
       "    <tr>\n",
       "      <th>0</th>\n",
       "      <td>1</td>\n",
       "      <td>2</td>\n",
       "      <td>2.88</td>\n",
       "      <td>2.16</td>\n",
       "      <td>2</td>\n",
       "      <td>1</td>\n",
       "      <td>1</td>\n",
       "      <td>1</td>\n",
       "      <td>2</td>\n",
       "      <td>2</td>\n",
       "      <td>4</td>\n",
       "      <td>1</td>\n",
       "      <td>1</td>\n",
       "      <td>1</td>\n",
       "      <td>2</td>\n",
       "      <td>1</td>\n",
       "      <td>60</td>\n",
       "      <td>1</td>\n",
       "    </tr>\n",
       "    <tr>\n",
       "      <th>1</th>\n",
       "      <td>2</td>\n",
       "      <td>3</td>\n",
       "      <td>3.40</td>\n",
       "      <td>1.88</td>\n",
       "      <td>1</td>\n",
       "      <td>1</td>\n",
       "      <td>1</td>\n",
       "      <td>1</td>\n",
       "      <td>1</td>\n",
       "      <td>1</td>\n",
       "      <td>2</td>\n",
       "      <td>1</td>\n",
       "      <td>1</td>\n",
       "      <td>1</td>\n",
       "      <td>2</td>\n",
       "      <td>1</td>\n",
       "      <td>51</td>\n",
       "      <td>1</td>\n",
       "    </tr>\n",
       "    <tr>\n",
       "      <th>2</th>\n",
       "      <td>3</td>\n",
       "      <td>3</td>\n",
       "      <td>2.76</td>\n",
       "      <td>2.08</td>\n",
       "      <td>2</td>\n",
       "      <td>1</td>\n",
       "      <td>1</td>\n",
       "      <td>1</td>\n",
       "      <td>2</td>\n",
       "      <td>1</td>\n",
       "      <td>1</td>\n",
       "      <td>1</td>\n",
       "      <td>1</td>\n",
       "      <td>1</td>\n",
       "      <td>2</td>\n",
       "      <td>1</td>\n",
       "      <td>59</td>\n",
       "      <td>1</td>\n",
       "    </tr>\n",
       "    <tr>\n",
       "      <th>3</th>\n",
       "      <td>4</td>\n",
       "      <td>3</td>\n",
       "      <td>3.68</td>\n",
       "      <td>3.04</td>\n",
       "      <td>1</td>\n",
       "      <td>1</td>\n",
       "      <td>1</td>\n",
       "      <td>1</td>\n",
       "      <td>1</td>\n",
       "      <td>1</td>\n",
       "      <td>1</td>\n",
       "      <td>1</td>\n",
       "      <td>1</td>\n",
       "      <td>1</td>\n",
       "      <td>1</td>\n",
       "      <td>1</td>\n",
       "      <td>54</td>\n",
       "      <td>1</td>\n",
       "    </tr>\n",
       "    <tr>\n",
       "      <th>4</th>\n",
       "      <td>5</td>\n",
       "      <td>3</td>\n",
       "      <td>2.44</td>\n",
       "      <td>0.96</td>\n",
       "      <td>3</td>\n",
       "      <td>1</td>\n",
       "      <td>2</td>\n",
       "      <td>1</td>\n",
       "      <td>2</td>\n",
       "      <td>2</td>\n",
       "      <td>1</td>\n",
       "      <td>1</td>\n",
       "      <td>1</td>\n",
       "      <td>1</td>\n",
       "      <td>2</td>\n",
       "      <td>1</td>\n",
       "      <td>73</td>\n",
       "      <td>2</td>\n",
       "    </tr>\n",
       "  </tbody>\n",
       "</table>\n",
       "</div>"
      ],
      "text/plain": [
       "   id  DGN  PRE4  PRE5  PRE6  PRE7  PRE8  PRE9  PRE10  PRE11  PRE14  PRE17  \\\n",
       "0   1    2  2.88  2.16     2     1     1     1      2      2      4      1   \n",
       "1   2    3  3.40  1.88     1     1     1     1      1      1      2      1   \n",
       "2   3    3  2.76  2.08     2     1     1     1      2      1      1      1   \n",
       "3   4    3  3.68  3.04     1     1     1     1      1      1      1      1   \n",
       "4   5    3  2.44  0.96     3     1     2     1      2      2      1      1   \n",
       "\n",
       "   PRE19  PRE25  PRE30  PRE32  AGE  Risk1Yr  \n",
       "0      1      1      2      1   60        1  \n",
       "1      1      1      2      1   51        1  \n",
       "2      1      1      2      1   59        1  \n",
       "3      1      1      1      1   54        1  \n",
       "4      1      1      2      1   73        2  "
      ]
     },
     "execution_count": 13,
     "metadata": {},
     "output_type": "execute_result"
    }
   ],
   "source": [
    "data.head()"
   ]
  },
  {
   "cell_type": "code",
   "execution_count": 14,
   "id": "f1c9145f",
   "metadata": {
    "execution": {
     "iopub.execute_input": "2023-09-02T17:42:17.253732Z",
     "iopub.status.busy": "2023-09-02T17:42:17.252558Z",
     "iopub.status.idle": "2023-09-02T17:42:18.288266Z",
     "shell.execute_reply": "2023-09-02T17:42:18.287384Z"
    },
    "papermill": {
     "duration": 1.048483,
     "end_time": "2023-09-02T17:42:18.290096",
     "exception": false,
     "start_time": "2023-09-02T17:42:17.241613",
     "status": "completed"
    },
    "tags": []
   },
   "outputs": [
    {
     "data": {
      "image/png": "[encoded data removed]",
      "text/plain": [
       "<Figure size 1500x1000 with 2 Axes>"
      ]
     },
     "metadata": {},
     "output_type": "display_data"
    }
   ],
   "source": [
    "corr_matrix=data.corr()\n",
    "fig, ax = plt.subplots(figsize=(15,10))\n",
    "ax=sns.heatmap(corr_matrix,\n",
    "              annot=True,\n",
    "              linewidth=0.5,\n",
    "              fmt=\".2f\",\n",
    "              cmap=\"YlGnBu\")"
   ]
  },
  {
   "cell_type": "code",
   "execution_count": 15,
   "id": "c2345aae",
   "metadata": {
    "execution": {
     "iopub.execute_input": "2023-09-02T17:42:18.314612Z",
     "iopub.status.busy": "2023-09-02T17:42:18.314269Z",
     "iopub.status.idle": "2023-09-02T17:42:18.321983Z",
     "shell.execute_reply": "2023-09-02T17:42:18.320645Z"
    },
    "papermill": {
     "duration": 0.022591,
     "end_time": "2023-09-02T17:42:18.324116",
     "exception": false,
     "start_time": "2023-09-02T17:42:18.301525",
     "status": "completed"
    },
    "tags": []
   },
   "outputs": [
    {
     "name": "stdout",
     "output_type": "stream",
     "text": [
      "Correlated features :\n",
      "['PRE9', 'PRE14', 'PRE17']\n"
     ]
    }
   ],
   "source": [
    "correlation_threshold = 0.1\n",
    "features = []\n",
    "for feature in corr_matrix.columns:\n",
    "    if feature != 'Risk1Yr' and (corr_matrix[feature]['Risk1Yr'] > correlation_threshold or\n",
    "                                corr_matrix[feature]['Risk1Yr'] < -correlation_threshold):\n",
    "        features.append(feature)\n",
    "\n",
    "print(\"Correlated features :\")\n",
    "print(features)"
   ]
  },
  {
   "cell_type": "code",
   "execution_count": 16,
   "id": "292e211e",
   "metadata": {
    "execution": {
     "iopub.execute_input": "2023-09-02T17:42:18.350557Z",
     "iopub.status.busy": "2023-09-02T17:42:18.350152Z",
     "iopub.status.idle": "2023-09-02T17:42:18.357236Z",
     "shell.execute_reply": "2023-09-02T17:42:18.356390Z"
    },
    "papermill": {
     "duration": 0.022297,
     "end_time": "2023-09-02T17:42:18.358980",
     "exception": false,
     "start_time": "2023-09-02T17:42:18.336683",
     "status": "completed"
    },
    "tags": []
   },
   "outputs": [],
   "source": [
    "x=data.drop('Risk1Yr',axis=1)\n",
    "y=data.Risk1Yr\n"
   ]
  },
  {
   "cell_type": "code",
   "execution_count": 17,
   "id": "42caa050",
   "metadata": {
    "execution": {
     "iopub.execute_input": "2023-09-02T17:42:18.441185Z",
     "iopub.status.busy": "2023-09-02T17:42:18.439910Z",
     "iopub.status.idle": "2023-09-02T17:42:18.577643Z",
     "shell.execute_reply": "2023-09-02T17:42:18.576662Z"
    },
    "papermill": {
     "duration": 0.208276,
     "end_time": "2023-09-02T17:42:18.580158",
     "exception": false,
     "start_time": "2023-09-02T17:42:18.371882",
     "status": "completed"
    },
    "tags": []
   },
   "outputs": [
    {
     "name": "stdout",
     "output_type": "stream",
     "text": [
      "Logistic Regression Accuracy: 0.7978723404255319\n",
      "SVM Accuracy: 0.7978723404255319\n"
     ]
    },
    {
     "name": "stderr",
     "output_type": "stream",
     "text": [
      "/opt/conda/lib/python3.10/site-packages/sklearn/svm/_base.py:1244: ConvergenceWarning: Liblinear failed to converge, increase the number of iterations.\n",
      "  warnings.warn(\n"
     ]
    }
   ],
   "source": [
    "np.random.seed(42)\n",
    "#split into test and train\n",
    "x_train,x_test,y_train,y_test= train_test_split(x,y,test_size=0.2)\n",
    "x_train.shape,x_test.shape,y_test.shape,y_train.shape\n",
    "\n",
    "# Initialize and train a logistic regression model and SVC\n",
    "lgr_model = LogisticRegression(max_iter=1000)  \n",
    "lgr_model.fit(x_train, y_train)\n",
    "\n",
    "svc_model = svm.LinearSVC(max_iter=1000)\n",
    "svc_model.fit(x_train, y_train)\n",
    "\n",
    "# Predict the target variable on the test set\n",
    "y_pred_lgr = lgr_model.predict(x_test)\n",
    "\n",
    "y_pred_svc = svc_model.predict(x_test)\n",
    "\n",
    "# Calculate the accuracy of the models\n",
    "accuracy_lgr = accuracy_score(y_test, y_pred_lgr)\n",
    "accuracy_svc = accuracy_score(y_test, y_pred_svc)\n",
    "\n",
    "print(\"Logistic Regression Accuracy:\", accuracy_lgr)\n",
    "print(\"SVM Accuracy:\", accuracy_svc)"
   ]
  },
  {
   "cell_type": "code",
   "execution_count": 18,
   "id": "d881168b",
   "metadata": {
    "execution": {
     "iopub.execute_input": "2023-09-02T17:42:18.607738Z",
     "iopub.status.busy": "2023-09-02T17:42:18.607371Z",
     "iopub.status.idle": "2023-09-02T17:42:18.620647Z",
     "shell.execute_reply": "2023-09-02T17:42:18.619055Z"
    },
    "papermill": {
     "duration": 0.029444,
     "end_time": "2023-09-02T17:42:18.622785",
     "exception": false,
     "start_time": "2023-09-02T17:42:18.593341",
     "status": "completed"
    },
    "tags": []
   },
   "outputs": [
    {
     "name": "stdout",
     "output_type": "stream",
     "text": [
      "precision_score:  0.7978723404255319\n",
      "f1_score:  0.8875739644970414\n",
      "recall_score:  1.0\n"
     ]
    }
   ],
   "source": [
    "print(\"precision_score: \", precision_score(y_test, y_pred_lgr))\n",
    "print(\"f1_score: \", f1_score(y_test, y_pred_lgr))\n",
    "print(\"recall_score: \", recall_score(y_test, y_pred_lgr))"
   ]
  },
  {
   "cell_type": "code",
   "execution_count": 19,
   "id": "34994c22",
   "metadata": {
    "execution": {
     "iopub.execute_input": "2023-09-02T17:42:18.649736Z",
     "iopub.status.busy": "2023-09-02T17:42:18.649017Z",
     "iopub.status.idle": "2023-09-02T17:42:18.909270Z",
     "shell.execute_reply": "2023-09-02T17:42:18.908238Z"
    },
    "papermill": {
     "duration": 0.276068,
     "end_time": "2023-09-02T17:42:18.911537",
     "exception": false,
     "start_time": "2023-09-02T17:42:18.635469",
     "status": "completed"
    },
    "tags": []
   },
   "outputs": [
    {
     "data": {
      "text/plain": [
       "0.7978723404255319"
      ]
     },
     "execution_count": 19,
     "metadata": {},
     "output_type": "execute_result"
    }
   ],
   "source": [
    "model3=RandomForestClassifier()\n",
    "model3.fit(x_train,y_train)\n",
    "y_pred=model3.predict(x_test)\n",
    "score1=accuracy_score(y_test,y_pred)\n",
    "score1"
   ]
  },
  {
   "cell_type": "markdown",
   "id": "5ab78ae5",
   "metadata": {
    "papermill": {
     "duration": 0.012458,
     "end_time": "2023-09-02T17:42:18.937081",
     "exception": false,
     "start_time": "2023-09-02T17:42:18.924623",
     "status": "completed"
    },
    "tags": []
   },
   "source": [
    "## Hyper Parameter tuning (Using Grid search CV)"
   ]
  },
  {
   "cell_type": "code",
   "execution_count": 20,
   "id": "429c9b2b",
   "metadata": {
    "execution": {
     "iopub.execute_input": "2023-09-02T17:42:18.964338Z",
     "iopub.status.busy": "2023-09-02T17:42:18.963478Z",
     "iopub.status.idle": "2023-09-02T17:42:20.102452Z",
     "shell.execute_reply": "2023-09-02T17:42:20.101096Z"
    },
    "papermill": {
     "duration": 1.154633,
     "end_time": "2023-09-02T17:42:20.104315",
     "exception": false,
     "start_time": "2023-09-02T17:42:18.949682",
     "status": "completed"
    },
    "tags": []
   },
   "outputs": [
    {
     "name": "stdout",
     "output_type": "stream",
     "text": [
      "Fitting 5 folds for each of 30 candidates, totalling 150 fits\n"
     ]
    },
    {
     "data": {
      "text/html": [
       "<style>#sk-container-id-1 {color: black;background-color: white;}#sk-container-id-1 pre{padding: 0;}#sk-container-id-1 div.sk-toggleable {background-color: white;}#sk-container-id-1 label.sk-toggleable__label {cursor: pointer;display: block;width: 100%;margin-bottom: 0;padding: 0.3em;box-sizing: border-box;text-align: center;}#sk-container-id-1 label.sk-toggleable__label-arrow:before {content: \"▸\";float: left;margin-right: 0.25em;color: #696969;}#sk-container-id-1 label.sk-toggleable__label-arrow:hover:before {color: black;}#sk-container-id-1 div.sk-estimator:hover label.sk-toggleable__label-arrow:before {color: black;}#sk-container-id-1 div.sk-toggleable__content {max-height: 0;max-width: 0;overflow: hidden;text-align: left;background-color: #f0f8ff;}#sk-container-id-1 div.sk-toggleable__content pre {margin: 0.2em;color: black;border-radius: 0.25em;background-color: #f0f8ff;}#sk-container-id-1 input.sk-toggleable__control:checked~div.sk-toggleable__content {max-height: 200px;max-width: 100%;overflow: auto;}#sk-container-id-1 input.sk-toggleable__control:checked~label.sk-toggleable__label-arrow:before {content: \"▾\";}#sk-container-id-1 div.sk-estimator input.sk-toggleable__control:checked~label.sk-toggleable__label {background-color: #d4ebff;}#sk-container-id-1 div.sk-label input.sk-toggleable__control:checked~label.sk-toggleable__label {background-color: #d4ebff;}#sk-container-id-1 input.sk-hidden--visually {border: 0;clip: rect(1px 1px 1px 1px);clip: rect(1px, 1px, 1px, 1px);height: 1px;margin: -1px;overflow: hidden;padding: 0;position: absolute;width: 1px;}#sk-container-id-1 div.sk-estimator {font-family: monospace;background-color: #f0f8ff;border: 1px dotted black;border-radius: 0.25em;box-sizing: border-box;margin-bottom: 0.5em;}#sk-container-id-1 div.sk-estimator:hover {background-color: #d4ebff;}#sk-container-id-1 div.sk-parallel-item::after {content: \"\";width: 100%;border-bottom: 1px solid gray;flex-grow: 1;}#sk-container-id-1 div.sk-label:hover label.sk-toggleable__label {background-color: #d4ebff;}#sk-container-id-1 div.sk-serial::before {content: \"\";position: absolute;border-left: 1px solid gray;box-sizing: border-box;top: 0;bottom: 0;left: 50%;z-index: 0;}#sk-container-id-1 div.sk-serial {display: flex;flex-direction: column;align-items: center;background-color: white;padding-right: 0.2em;padding-left: 0.2em;position: relative;}#sk-container-id-1 div.sk-item {position: relative;z-index: 1;}#sk-container-id-1 div.sk-parallel {display: flex;align-items: stretch;justify-content: center;background-color: white;position: relative;}#sk-container-id-1 div.sk-item::before, #sk-container-id-1 div.sk-parallel-item::before {content: \"\";position: absolute;border-left: 1px solid gray;box-sizing: border-box;top: 0;bottom: 0;left: 50%;z-index: -1;}#sk-container-id-1 div.sk-parallel-item {display: flex;flex-direction: column;z-index: 1;position: relative;background-color: white;}#sk-container-id-1 div.sk-parallel-item:first-child::after {align-self: flex-end;width: 50%;}#sk-container-id-1 div.sk-parallel-item:last-child::after {align-self: flex-start;width: 50%;}#sk-container-id-1 div.sk-parallel-item:only-child::after {width: 0;}#sk-container-id-1 div.sk-dashed-wrapped {border: 1px dashed gray;margin: 0 0.4em 0.5em 0.4em;box-sizing: border-box;padding-bottom: 0.4em;background-color: white;}#sk-container-id-1 div.sk-label label {font-family: monospace;font-weight: bold;display: inline-block;line-height: 1.2em;}#sk-container-id-1 div.sk-label-container {text-align: center;}#sk-container-id-1 div.sk-container {/* jupyter's `normalize.less` sets `[hidden] { display: none; }` but bootstrap.min.css set `[hidden] { display: none !important; }` so we also need the `!important` here to be able to override the default hidden behavior on the sphinx rendered scikit-learn.org. See: https://github.com/scikit-learn/scikit-learn/issues/21755 */display: inline-block !important;position: relative;}#sk-container-id-1 div.sk-text-repr-fallback {display: none;}</style><div id=\"sk-container-id-1\" class=\"sk-top-container\"><div class=\"sk-text-repr-fallback\"><pre>GridSearchCV(cv=5, estimator=LogisticRegression(random_state=42),\n",
       "             param_grid={&#x27;C&#x27;: array([1.00000000e-04, 1.88739182e-04, 3.56224789e-04, 6.72335754e-04,\n",
       "       1.26896100e-03, 2.39502662e-03, 4.52035366e-03, 8.53167852e-03,\n",
       "       1.61026203e-02, 3.03919538e-02, 5.73615251e-02, 1.08263673e-01,\n",
       "       2.04335972e-01, 3.85662042e-01, 7.27895384e-01, 1.37382380e+00,\n",
       "       2.59294380e+00, 4.89390092e+00, 9.23670857e+00, 1.74332882e+01,\n",
       "       3.29034456e+01, 6.21016942e+01, 1.17210230e+02, 2.21221629e+02,\n",
       "       4.17531894e+02, 7.88046282e+02, 1.48735211e+03, 2.80721620e+03,\n",
       "       5.29831691e+03, 1.00000000e+04]),\n",
       "                         &#x27;solver&#x27;: [&#x27;liblinear&#x27;]},\n",
       "             verbose=True)</pre><b>In a Jupyter environment, please rerun this cell to show the HTML representation or trust the notebook. <br />On GitHub, the HTML representation is unable to render, please try loading this page with nbviewer.org.</b></div><div class=\"sk-container\" hidden><div class=\"sk-item sk-dashed-wrapped\"><div class=\"sk-label-container\"><div class=\"sk-label sk-toggleable\"><input class=\"sk-toggleable__control sk-hidden--visually\" id=\"sk-estimator-id-1\" type=\"checkbox\" ><label for=\"sk-estimator-id-1\" class=\"sk-toggleable__label sk-toggleable__label-arrow\">GridSearchCV</label><div class=\"sk-toggleable__content\"><pre>GridSearchCV(cv=5, estimator=LogisticRegression(random_state=42),\n",
       "             param_grid={&#x27;C&#x27;: array([1.00000000e-04, 1.88739182e-04, 3.56224789e-04, 6.72335754e-04,\n",
       "       1.26896100e-03, 2.39502662e-03, 4.52035366e-03, 8.53167852e-03,\n",
       "       1.61026203e-02, 3.03919538e-02, 5.73615251e-02, 1.08263673e-01,\n",
       "       2.04335972e-01, 3.85662042e-01, 7.27895384e-01, 1.37382380e+00,\n",
       "       2.59294380e+00, 4.89390092e+00, 9.23670857e+00, 1.74332882e+01,\n",
       "       3.29034456e+01, 6.21016942e+01, 1.17210230e+02, 2.21221629e+02,\n",
       "       4.17531894e+02, 7.88046282e+02, 1.48735211e+03, 2.80721620e+03,\n",
       "       5.29831691e+03, 1.00000000e+04]),\n",
       "                         &#x27;solver&#x27;: [&#x27;liblinear&#x27;]},\n",
       "             verbose=True)</pre></div></div></div><div class=\"sk-parallel\"><div class=\"sk-parallel-item\"><div class=\"sk-item\"><div class=\"sk-label-container\"><div class=\"sk-label sk-toggleable\"><input class=\"sk-toggleable__control sk-hidden--visually\" id=\"sk-estimator-id-2\" type=\"checkbox\" ><label for=\"sk-estimator-id-2\" class=\"sk-toggleable__label sk-toggleable__label-arrow\">estimator: LogisticRegression</label><div class=\"sk-toggleable__content\"><pre>LogisticRegression(random_state=42)</pre></div></div></div><div class=\"sk-serial\"><div class=\"sk-item\"><div class=\"sk-estimator sk-toggleable\"><input class=\"sk-toggleable__control sk-hidden--visually\" id=\"sk-estimator-id-3\" type=\"checkbox\" ><label for=\"sk-estimator-id-3\" class=\"sk-toggleable__label sk-toggleable__label-arrow\">LogisticRegression</label><div class=\"sk-toggleable__content\"><pre>LogisticRegression(random_state=42)</pre></div></div></div></div></div></div></div></div></div></div>"
      ],
      "text/plain": [
       "GridSearchCV(cv=5, estimator=LogisticRegression(random_state=42),\n",
       "             param_grid={'C': array([1.00000000e-04, 1.88739182e-04, 3.56224789e-04, 6.72335754e-04,\n",
       "       1.26896100e-03, 2.39502662e-03, 4.52035366e-03, 8.53167852e-03,\n",
       "       1.61026203e-02, 3.03919538e-02, 5.73615251e-02, 1.08263673e-01,\n",
       "       2.04335972e-01, 3.85662042e-01, 7.27895384e-01, 1.37382380e+00,\n",
       "       2.59294380e+00, 4.89390092e+00, 9.23670857e+00, 1.74332882e+01,\n",
       "       3.29034456e+01, 6.21016942e+01, 1.17210230e+02, 2.21221629e+02,\n",
       "       4.17531894e+02, 7.88046282e+02, 1.48735211e+03, 2.80721620e+03,\n",
       "       5.29831691e+03, 1.00000000e+04]),\n",
       "                         'solver': ['liblinear']},\n",
       "             verbose=True)"
      ]
     },
     "execution_count": 20,
     "metadata": {},
     "output_type": "execute_result"
    }
   ],
   "source": [
    "#We can Hyper tune the Logistic regression model\n",
    "log_reg_grid={\"C\":np.logspace(-4,4,30),\n",
    "             \"solver\":[\"liblinear\"]}\n",
    "\n",
    "#Logictic Regression\n",
    "lreg_gs=GridSearchCV(LogisticRegression(random_state=42),\n",
    "                     log_reg_grid,\n",
    "                      cv=5,\n",
    "                    verbose=True,\n",
    "                    )\n",
    "lreg_gs.fit(x_train,y_train)"
   ]
  },
  {
   "cell_type": "code",
   "execution_count": 21,
   "id": "ca0a0d03",
   "metadata": {
    "execution": {
     "iopub.execute_input": "2023-09-02T17:42:20.130611Z",
     "iopub.status.busy": "2023-09-02T17:42:20.130267Z",
     "iopub.status.idle": "2023-09-02T17:42:20.143378Z",
     "shell.execute_reply": "2023-09-02T17:42:20.141878Z"
    },
    "papermill": {
     "duration": 0.028861,
     "end_time": "2023-09-02T17:42:20.145371",
     "exception": false,
     "start_time": "2023-09-02T17:42:20.116510",
     "status": "completed"
    },
    "tags": []
   },
   "outputs": [
    {
     "name": "stdout",
     "output_type": "stream",
     "text": [
      "precision_score:  0.7978723404255319\n",
      "f1_score:  0.8875739644970414\n"
     ]
    }
   ],
   "source": [
    "pred=lreg_gs.predict(x_test)\n",
    "print(\"precision_score: \", precision_score(y_test, pred))\n",
    "print(\"f1_score: \", f1_score(y_test, pred))"
   ]
  },
  {
   "cell_type": "markdown",
   "id": "75290421",
   "metadata": {
    "execution": {
     "iopub.execute_input": "2023-09-02T17:18:58.151128Z",
     "iopub.status.busy": "2023-09-02T17:18:58.150334Z",
     "iopub.status.idle": "2023-09-02T17:18:58.159564Z",
     "shell.execute_reply": "2023-09-02T17:18:58.157930Z",
     "shell.execute_reply.started": "2023-09-02T17:18:58.151080Z"
    },
    "papermill": {
     "duration": 0.011571,
     "end_time": "2023-09-02T17:42:20.168959",
     "exception": false,
     "start_time": "2023-09-02T17:42:20.157388",
     "status": "completed"
    },
    "tags": []
   },
   "source": [
    "## Evaluating beyond Accuracy,precision,recall and f1\n",
    "* AUC/ROC\n",
    "* Classification Report\n",
    "* COnfusion Matrix\n"
   ]
  },
  {
   "cell_type": "code",
   "execution_count": 22,
   "id": "c1a5a81d",
   "metadata": {
    "execution": {
     "iopub.execute_input": "2023-09-02T17:42:20.196706Z",
     "iopub.status.busy": "2023-09-02T17:42:20.195515Z",
     "iopub.status.idle": "2023-09-02T17:42:20.200909Z",
     "shell.execute_reply": "2023-09-02T17:42:20.200285Z"
    },
    "papermill": {
     "duration": 0.021914,
     "end_time": "2023-09-02T17:42:20.202562",
     "exception": false,
     "start_time": "2023-09-02T17:42:20.180648",
     "status": "completed"
    },
    "tags": []
   },
   "outputs": [],
   "source": [
    "from sklearn.metrics import RocCurveDisplay\n",
    "from sklearn.metrics import confusion_matrix\n",
    "from sklearn.metrics import classification_report\n",
    "from sklearn.model_selection import cross_val_score\n",
    "from sklearn.metrics import f1_score\n",
    "from sklearn.metrics import precision_score\n",
    "from sklearn.metrics import f1_score\n",
    "\n",
    "from sklearn.metrics import recall_score,accuracy_score\n"
   ]
  },
  {
   "cell_type": "code",
   "execution_count": 23,
   "id": "c031949a",
   "metadata": {
    "execution": {
     "iopub.execute_input": "2023-09-02T17:42:20.228950Z",
     "iopub.status.busy": "2023-09-02T17:42:20.228523Z",
     "iopub.status.idle": "2023-09-02T17:42:20.235630Z",
     "shell.execute_reply": "2023-09-02T17:42:20.234626Z"
    },
    "papermill": {
     "duration": 0.022529,
     "end_time": "2023-09-02T17:42:20.237441",
     "exception": false,
     "start_time": "2023-09-02T17:42:20.214912",
     "status": "completed"
    },
    "tags": []
   },
   "outputs": [],
   "source": [
    "y_preds=lreg_gs.predict(x_test)\n"
   ]
  },
  {
   "cell_type": "code",
   "execution_count": 24,
   "id": "ba8abcca",
   "metadata": {
    "execution": {
     "iopub.execute_input": "2023-09-02T17:42:20.264919Z",
     "iopub.status.busy": "2023-09-02T17:42:20.264017Z",
     "iopub.status.idle": "2023-09-02T17:42:20.465034Z",
     "shell.execute_reply": "2023-09-02T17:42:20.464058Z"
    },
    "papermill": {
     "duration": 0.216983,
     "end_time": "2023-09-02T17:42:20.467159",
     "exception": false,
     "start_time": "2023-09-02T17:42:20.250176",
     "status": "completed"
    },
    "tags": []
   },
   "outputs": [
    {
     "data": {
      "text/plain": [
       "<sklearn.metrics._plot.roc_curve.RocCurveDisplay at 0x7cf2060e8400>"
      ]
     },
     "execution_count": 24,
     "metadata": {},
     "output_type": "execute_result"
    },
    {
     "data": {
      "image/png": "[encoded data removed]",
      "text/plain": [
       "<Figure size 640x480 with 1 Axes>"
      ]
     },
     "metadata": {},
     "output_type": "display_data"
    }
   ],
   "source": [
    "# Auc/Roc\n",
    "\n",
    "RocCurveDisplay.from_estimator(lreg_gs, x_test, y_test)"
   ]
  },
  {
   "cell_type": "code",
   "execution_count": 25,
   "id": "d01bdbbb",
   "metadata": {
    "execution": {
     "iopub.execute_input": "2023-09-02T17:42:20.495391Z",
     "iopub.status.busy": "2023-09-02T17:42:20.495023Z",
     "iopub.status.idle": "2023-09-02T17:42:20.605133Z",
     "shell.execute_reply": "2023-09-02T17:42:20.604286Z"
    },
    "papermill": {
     "duration": 0.127174,
     "end_time": "2023-09-02T17:42:20.607820",
     "exception": false,
     "start_time": "2023-09-02T17:42:20.480646",
     "status": "completed"
    },
    "tags": []
   },
   "outputs": [
    {
     "data": {
      "image/png": "[encoded data removed]",
      "text/plain": [
       "<Figure size 640x480 with 1 Axes>"
      ]
     },
     "metadata": {},
     "output_type": "display_data"
    }
   ],
   "source": [
    "# Confusion matrix\n",
    "cn=confusion_matrix(y_test,y_preds)\n",
    "def plot_conf_mat(y_test,y_preds):\n",
    "    fig, ax =plt.subplots()\n",
    "    ax=sns.heatmap(confusion_matrix(y_test,y_preds),\n",
    "                  annot=True,\n",
    "                  cbar=False)\n",
    "    \n",
    "plot_conf_mat(y_test,y_preds)\n"
   ]
  },
  {
   "cell_type": "code",
   "execution_count": 26,
   "id": "10762af6",
   "metadata": {
    "execution": {
     "iopub.execute_input": "2023-09-02T17:42:20.644946Z",
     "iopub.status.busy": "2023-09-02T17:42:20.644415Z",
     "iopub.status.idle": "2023-09-02T17:42:20.655454Z",
     "shell.execute_reply": "2023-09-02T17:42:20.654383Z"
    },
    "papermill": {
     "duration": 0.031189,
     "end_time": "2023-09-02T17:42:20.657210",
     "exception": false,
     "start_time": "2023-09-02T17:42:20.626021",
     "status": "completed"
    },
    "tags": []
   },
   "outputs": [
    {
     "name": "stdout",
     "output_type": "stream",
     "text": [
      "              precision    recall  f1-score   support\n",
      "\n",
      "           1       0.80      1.00      0.89        75\n",
      "           2       1.00      0.00      0.00        19\n",
      "\n",
      "    accuracy                           0.80        94\n",
      "   macro avg       0.90      0.50      0.44        94\n",
      "weighted avg       0.84      0.80      0.71        94\n",
      "\n"
     ]
    }
   ],
   "source": [
    "# Classification Report\n",
    "clr=classification_report(y_test,y_preds,zero_division=1)\n",
    "print(clr)"
   ]
  },
  {
   "cell_type": "code",
   "execution_count": null,
   "id": "f090897a",
   "metadata": {
    "papermill": {
     "duration": 0.012372,
     "end_time": "2023-09-02T17:42:20.682933",
     "exception": false,
     "start_time": "2023-09-02T17:42:20.670561",
     "status": "completed"
    },
    "tags": []
   },
   "outputs": [],
   "source": []
  }
 ],
 "kernelspec": {
  "display_name": "Python 3",
  "language": "python",
  "name": "python3"
 },
 "language_info": {
  "codemirror_mode": {
   "name": "ipython",
   "version": 3
  },
  "file_extension": ".py",
  "mimetype": "text/x-python",
  "name": "python",
  "nbconvert_exporter": "python",
  "pygments_lexer": "ipython3",
  "version": "3.6.4"
 },
 "metadata": {
  "kernelspec": {
   "display_name": "Python 3",
   "language": "python",
   "name": "python3"
  },
  "language_info": {
   "codemirror_mode": {
    "name": "ipython",
    "version": 3
   },
   "file_extension": ".py",
   "mimetype": "text/x-python",
   "name": "python",
   "nbconvert_exporter": "python",
   "pygments_lexer": "ipython3",
   "version": "3.10.12"
  },
  "papermill": {
   "default_parameters": {},
   "duration": 9.936636,
   "end_time": "2023-09-02T17:42:21.315473",
   "environment_variables": {},
   "exception": null,
   "input_path": "__notebook__.ipynb",
   "output_path": "__notebook__.ipynb",
   "parameters": {},
   "start_time": "2023-09-02T17:42:11.378837",
   "version": "2.4.0"
  }
 },
 "nbformat": 4,
 "nbformat_minor": 5
}
